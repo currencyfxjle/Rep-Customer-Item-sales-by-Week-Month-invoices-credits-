{
  "nbformat": 4,
  "nbformat_minor": 0,
  "metadata": {
    "colab": {
      "provenance": [],
      "authorship_tag": "ABX9TyPsO21+3wx+SfiyIhLXe+7n",
      "include_colab_link": true
    },
    "kernelspec": {
      "name": "python3",
      "display_name": "Python 3"
    },
    "language_info": {
      "name": "python"
    }
  },
  "cells": [
    {
      "cell_type": "markdown",
      "metadata": {
        "id": "view-in-github",
        "colab_type": "text"
      },
      "source": [
        "<a href=\"https://colab.research.google.com/github/currencyfxjle/Rep-Customer-Item-sales-by-Week-Month-invoices-credits-/blob/main/Rep_Customer_Item_sales_by_Week_%26_Month_(invoices_credits).ipynb\" target=\"_parent\"><img src=\"https://colab.research.google.com/assets/colab-badge.svg\" alt=\"Open In Colab\"/></a>"
      ]
    },
    {
      "cell_type": "markdown",
      "source": [
        "WEEKLY"
      ],
      "metadata": {
        "id": "fMtygAFaA4nA"
      }
    },
    {
      "cell_type": "code",
      "source": [
        "import pandas as pd\n",
        "\n",
        "# Read the Excel file with multiple tabs\n",
        "excel_file = pd.ExcelFile('/content/week_sales.xlsx')\n",
        "\n",
        "# Create an ExcelWriter to save the results\n",
        "with pd.ExcelWriter('output_file.xlsx', engine='openpyxl') as writer:\n",
        "\n",
        "    # Iterate over each tab in the Excel file\n",
        "    for sheet_name in excel_file.sheet_names:\n",
        "        df = pd.read_excel('/content/week_sales.xlsx', sheet_name=sheet_name, header=0)\n",
        "\n",
        "        # Preprocessing\n",
        "        df['Type'] = df['Type'].astype(str)\n",
        "        df['Name'] = df['Name'].astype(str)\n",
        "        df['Item'] = df['Item'].astype(str)\n",
        "        df['Date'] = pd.to_datetime(df['Date'])\n",
        "        df['Amount'] = df['Amount'].replace(',', '', regex=True).astype(float)\n",
        "        df['Qty'] = df['Qty'].replace(',', '', regex=True).astype(float)\n",
        "\n",
        "        # Weekly sales matrices calculations\n",
        "        def calculate_matrix(groupby_column):\n",
        "            weekly_sales = df.groupby([groupby_column, pd.Grouper(key='Date', freq='W-SUN')]).agg({'Amount': 'sum'}).reset_index()\n",
        "            pivot = weekly_sales.pivot_table(values='Amount', index=groupby_column, columns=pd.Grouper(key='Date', freq='W-SUN'))\n",
        "\n",
        "            # Insert totals at the top and label as \"TOTALS\"\n",
        "            totals = pivot.sum().rename('TOTALS')\n",
        "            pivot.loc['TOTALS', :] = totals\n",
        "            ordered_index = ['TOTALS'] + [x for x in pivot.index if x != 'TOTALS']\n",
        "            pivot = pivot.reindex(ordered_index)\n",
        "            return pivot\n",
        "\n",
        "        matrix_rep_df = calculate_matrix('Rep')\n",
        "        matrix_item_df = calculate_matrix('Item')\n",
        "        matrix_name_df = calculate_matrix('Name')\n",
        "\n",
        "        # Save matrices for the current sheet to Excel\n",
        "        matrix_rep_df.reset_index().to_excel(writer, sheet_name=f'{sheet_name} Rep', index=False)\n",
        "        matrix_item_df.reset_index().to_excel(writer, sheet_name=f'{sheet_name} Item', index=False)\n",
        "        matrix_name_df.reset_index().to_excel(writer, sheet_name=f'{sheet_name} Customer', index=False)\n",
        "\n",
        "        # Autofit columns for each matrix sheet\n",
        "        for suffix in ['Rep', 'Item', 'Customer']:\n",
        "            worksheet = writer.sheets[f'{sheet_name} {suffix}']\n",
        "            for column_cells in worksheet.columns:\n",
        "                length = max(len(str(cell.value)) for cell in column_cells)\n",
        "                worksheet.column_dimensions[column_cells[0].column_letter].width = length\n",
        "\n",
        "# Download the Excel file\n",
        "from google.colab import files\n",
        "files.download('output_file.xlsx')"
      ],
      "metadata": {
        "id": "cSNeIpS1A78f"
      },
      "execution_count": null,
      "outputs": []
    },
    {
      "cell_type": "markdown",
      "source": [
        "MONTHLY"
      ],
      "metadata": {
        "id": "-mQiut1CAxc6"
      }
    },
    {
      "cell_type": "code",
      "execution_count": null,
      "metadata": {
        "id": "uLDDygYDAnCS"
      },
      "outputs": [],
      "source": [
        "import pandas as pd\n",
        "\n",
        "# Read the Excel file with multiple tabs\n",
        "excel_file = pd.ExcelFile('/content/week_sales.xlsx')\n",
        "\n",
        "# Create an ExcelWriter to save the results\n",
        "with pd.ExcelWriter('output_file.xlsx', engine='openpyxl') as writer:\n",
        "\n",
        "    # Iterate over each tab in the Excel file\n",
        "    for sheet_name in excel_file.sheet_names:\n",
        "        df = pd.read_excel('/content/week_sales.xlsx', sheet_name=sheet_name, header=0)\n",
        "\n",
        "        # Preprocessing\n",
        "        df['Type'] = df['Type'].astype(str)\n",
        "        df['Name'] = df['Name'].astype(str)\n",
        "        df['Item'] = df['Item'].astype(str)\n",
        "        df['Date'] = pd.to_datetime(df['Date'])\n",
        "        df['Amount'] = df['Amount'].replace(',', '', regex=True).astype(float)\n",
        "        df['Qty'] = df['Qty'].replace(',', '', regex=True).astype(float)\n",
        "\n",
        "        # Monthly sales matrices calculations\n",
        "        def calculate_matrix(groupby_column):\n",
        "            monthly_sales = df.groupby([groupby_column, pd.Grouper(key='Date', freq='M')]).agg({'Amount': 'sum'}).reset_index()\n",
        "            pivot = monthly_sales.pivot_table(values='Amount', index=groupby_column, columns=pd.Grouper(key='Date', freq='M'))\n",
        "\n",
        "            # Insert totals at the top and label as \"TOTALS\"\n",
        "            totals = pivot.sum().rename('TOTALS')\n",
        "            pivot.loc['TOTALS', :] = totals\n",
        "            ordered_index = ['TOTALS'] + [x for x in pivot.index if x != 'TOTALS']\n",
        "            pivot = pivot.reindex(ordered_index)\n",
        "            return pivot\n",
        "\n",
        "        matrix_rep_df = calculate_matrix('Rep')\n",
        "        matrix_item_df = calculate_matrix('Item')\n",
        "        matrix_name_df = calculate_matrix('Name')\n",
        "\n",
        "        # Save matrices for the current sheet to Excel\n",
        "        matrix_rep_df.reset_index().to_excel(writer, sheet_name=f'{sheet_name} Rep', index=False)\n",
        "        matrix_item_df.reset_index().to_excel(writer, sheet_name=f'{sheet_name} Item', index=False)\n",
        "        matrix_name_df.reset_index().to_excel(writer, sheet_name=f'{sheet_name} Customer', index=False)\n",
        "\n",
        "        # Autofit columns for each matrix sheet\n",
        "        for suffix in ['Rep', 'Item', 'Customer']:\n",
        "            worksheet = writer.sheets[f'{sheet_name} {suffix}']\n",
        "            for column_cells in worksheet.columns:\n",
        "                length = max(len(str(cell.value)) for cell in column_cells)\n",
        "                worksheet.column_dimensions[column_cells[0].column_letter].width = length\n",
        "\n",
        "# Download the Excel file (only works in Google Colab)\n",
        "from google.colab import files\n",
        "files.download('output_file.xlsx')"
      ]
    },
    {
      "cell_type": "markdown",
      "source": [
        "**INVOICES & CREDITS BY WEEK**"
      ],
      "metadata": {
        "id": "yhoyWIzcCrY-"
      }
    },
    {
      "cell_type": "code",
      "source": [
        "import pandas as pd\n",
        "\n",
        "# Read the Excel file with multiple tabs\n",
        "excel_file = pd.ExcelFile('/content/week_sales.xlsx')\n",
        "\n",
        "# Create an ExcelWriter to save the results\n",
        "with pd.ExcelWriter('output_file.xlsx', engine='openpyxl') as writer:\n",
        "\n",
        "    # Define a function to calculate matrices for invoices and credit memos separately\n",
        "    def calculate_matrix(groupby_column):\n",
        "        # Read the data for the current sheet\n",
        "        df = pd.read_excel('/content/week_sales.xlsx', sheet_name=sheet_name, header=0)\n",
        "\n",
        "        # Preprocessing (same as before)\n",
        "        df['Type'] = df['Type'].astype(str)\n",
        "        df['Name'] = df['Name'].astype(str)\n",
        "        df['Item'] = df['Item'].astype(str)\n",
        "        df['Date'] = pd.to_datetime(df['Date'])\n",
        "        df['Amount'] = df['Amount'].replace(',', '', regex=True).astype(float)\n",
        "        df['Qty'] = df['Qty'].replace(',', '', regex=True).astype(float)\n",
        "\n",
        "        # Separate invoices and credit memos\n",
        "        invoices = df[df['Type'] == 'Invoice']\n",
        "        credit_memos = df[df['Type'] == 'Credit Memo']\n",
        "\n",
        "        # Calculate matrices for invoices and credit memos\n",
        "        weekly_sales_invoices = invoices.groupby([groupby_column, pd.Grouper(key='Date', freq='W-SUN')]).agg({'Amount': 'sum'}).reset_index()\n",
        "        weekly_sales_credit_memos = credit_memos.groupby([groupby_column, pd.Grouper(key='Date', freq='W-SUN')]).agg({'Amount': 'sum'}).reset_index()\n",
        "\n",
        "        # Pivot tables for invoices and credit memos\n",
        "        pivot_invoices = weekly_sales_invoices.pivot_table(values='Amount', index=groupby_column, columns=pd.Grouper(key='Date', freq='W-SUN'))\n",
        "        pivot_credit_memos = weekly_sales_credit_memos.pivot_table(values='Amount', index=groupby_column, columns=pd.Grouper(key='Date', freq='W-SUN'))\n",
        "\n",
        "        # Insert totals and concatenate invoices and credit memos\n",
        "        pivot_invoices.loc['TOTALS', :] = pivot_invoices.sum()\n",
        "        pivot_credit_memos.loc['TOTALS', :] = pivot_credit_memos.sum()\n",
        "\n",
        "        combined_matrix = pd.concat([pivot_invoices, pivot_credit_memos], axis=0, keys=['Invoices', 'Credit Memos'])\n",
        "\n",
        "        return combined_matrix\n",
        "\n",
        "    # Iterate over each tab in the Excel file\n",
        "    for sheet_name in excel_file.sheet_names:\n",
        "        matrix_combined_df = calculate_matrix('Rep')\n",
        "\n",
        "        # Save the combined matrix for the current sheet to Excel\n",
        "        matrix_combined_df.reset_index().to_excel(writer, sheet_name=f'{sheet_name} Rep', index=False)\n",
        "\n",
        "        # Autofit columns for the matrix sheet\n",
        "        worksheet = writer.sheets[f'{sheet_name} Rep']\n",
        "        for column_cells in worksheet.columns:\n",
        "            length = max(len(str(cell.value)) for cell in column_cells)\n",
        "            worksheet.column_dimensions[column_cells[0].column_letter].width = length\n",
        "\n",
        "        # Now, apply the same logic to 'Item' and 'Name' tabs\n",
        "        matrix_combined_item_df = calculate_matrix('Item')\n",
        "        matrix_combined_item_df.reset_index().to_excel(writer, sheet_name=f'{sheet_name} Item', index=False)\n",
        "\n",
        "        matrix_combined_name_df = calculate_matrix('Name')\n",
        "        matrix_combined_name_df.reset_index().to_excel(writer, sheet_name=f'{sheet_name} Customer', index=False)\n",
        "\n",
        "# Download the Excel file\n",
        "from google.colab import files\n",
        "files.download('output_file.xlsx')"
      ],
      "metadata": {
        "id": "fNgmcAySCyl6"
      },
      "execution_count": null,
      "outputs": []
    },
    {
      "cell_type": "markdown",
      "source": [
        "**INVOICES & CREDITS BY MONTH**"
      ],
      "metadata": {
        "id": "GgyUzCC2CVAO"
      }
    },
    {
      "cell_type": "code",
      "source": [
        "import pandas as pd\n",
        "\n",
        "# Read the Excel file with multiple tabs\n",
        "excel_file = pd.ExcelFile('/content/week_sales.xlsx')\n",
        "\n",
        "# Create an ExcelWriter to save the results\n",
        "with pd.ExcelWriter('output_file.xlsx', engine='openpyxl') as writer:\n",
        "\n",
        "    # Define a function to calculate matrices for invoices and credit memos separately\n",
        "    def calculate_matrix(groupby_column):\n",
        "        # Read the data for the current sheet\n",
        "        df = pd.read_excel('/content/week_sales.xlsx', sheet_name=sheet_name, header=0)\n",
        "\n",
        "        # Preprocessing (same as before)\n",
        "        df['Type'] = df['Type'].astype(str)\n",
        "        df['Name'] = df['Name'].astype(str)\n",
        "        df['Item'] = df['Item'].astype(str)\n",
        "        df['Date'] = pd.to_datetime(df['Date'])\n",
        "        df['Amount'] = df['Amount'].replace(',', '', regex=True).astype(float)\n",
        "        df['Qty'] = df['Qty'].replace(',', '', regex=True).astype(float)\n",
        "\n",
        "        # Separate invoices and credit memos\n",
        "        invoices = df[df['Type'] == 'Invoice']\n",
        "        credit_memos = df[df['Type'] == 'Credit Memo']\n",
        "\n",
        "        # Calculate matrices for invoices and credit memos\n",
        "        monthly_sales_invoices = invoices.groupby([groupby_column, pd.Grouper(key='Date', freq='M')]).agg({'Amount': 'sum'}).reset_index()\n",
        "        monthly_sales_credit_memos = credit_memos.groupby([groupby_column, pd.Grouper(key='Date', freq='M')]).agg({'Amount': 'sum'}).reset_index()\n",
        "\n",
        "        # Pivot tables for invoices and credit memos\n",
        "        pivot_invoices = monthly_sales_invoices.pivot_table(values='Amount', index=groupby_column, columns=pd.Grouper(key='Date', freq='M'))\n",
        "        pivot_credit_memos = monthly_sales_credit_memos.pivot_table(values='Amount', index=groupby_column, columns=pd.Grouper(key='Date', freq='M'))\n",
        "\n",
        "        # Insert totals and concatenate invoices and credit memos\n",
        "        pivot_invoices.loc['TOTALS', :] = pivot_invoices.sum()\n",
        "        pivot_credit_memos.loc['TOTALS', :] = pivot_credit_memos.sum()\n",
        "\n",
        "        combined_matrix = pd.concat([pivot_invoices, pivot_credit_memos], axis=0, keys=['Invoices', 'Credit Memos'])\n",
        "\n",
        "        return combined_matrix\n",
        "\n",
        "    # Iterate over each tab in the Excel file\n",
        "    for sheet_name in excel_file.sheet_names:\n",
        "        matrix_combined_df = calculate_matrix('Rep')\n",
        "\n",
        "        # Save the combined matrix for the current sheet to Excel\n",
        "        matrix_combined_df.reset_index().to_excel(writer, sheet_name=f'{sheet_name} Rep', index=False)\n",
        "\n",
        "        # Autofit columns for the matrix sheet\n",
        "        worksheet = writer.sheets[f'{sheet_name} Rep']\n",
        "        for column_cells in worksheet.columns:\n",
        "            length = max(len(str(cell.value)) for cell in column_cells)\n",
        "            worksheet.column_dimensions[column_cells[0].column_letter].width = length\n",
        "\n",
        "        # Now, apply the same logic to 'Item' and 'Name' tabs\n",
        "        matrix_combined_item_df = calculate_matrix('Item')\n",
        "        matrix_combined_item_df.reset_index().to_excel(writer, sheet_name=f'{sheet_name} Item', index=False)\n",
        "\n",
        "        matrix_combined_name_df = calculate_matrix('Name')\n",
        "        matrix_combined_name_df.reset_index().to_excel(writer, sheet_name=f'{sheet_name} Customer', index=False)\n",
        "\n",
        "# Download the Excel file (only works in Google Colab)\n",
        "from google.colab import files\n",
        "files.download('output_file.xlsx')"
      ],
      "metadata": {
        "id": "o4Lwz0uMAzXR"
      },
      "execution_count": null,
      "outputs": []
    }
  ]
}